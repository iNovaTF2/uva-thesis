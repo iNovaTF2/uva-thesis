{
 "cells": [
  {
   "cell_type": "markdown",
   "id": "916b51ad",
   "metadata": {},
   "source": [
    "# Import libraries and system checks"
   ]
  },
  {
   "cell_type": "code",
   "execution_count": 3,
   "id": "6b96a26c",
   "metadata": {},
   "outputs": [
    {
     "name": "stdout",
     "output_type": "stream",
     "text": [
      "Package            Version\n",
      "------------------ -----------\n",
      "aiohttp            3.9.5\n",
      "aiosignal          1.2.0\n",
      "asttokens          2.4.1\n",
      "attrs              23.1.0\n",
      "Bottleneck         1.3.7\n",
      "Brotli             1.0.9\n",
      "certifi            2024.6.2\n",
      "charset-normalizer 2.0.4\n",
      "colorama           0.4.6\n",
      "comm               0.2.2\n",
      "contourpy          1.2.0\n",
      "cycler             0.11.0\n",
      "datasets           2.19.1\n",
      "debugpy            1.6.7\n",
      "decorator          5.1.1\n",
      "dill               0.3.8\n",
      "exceptiongroup     1.2.0\n",
      "executing          2.0.1\n",
      "filelock           3.13.1\n",
      "fonttools          4.51.0\n",
      "frozenlist         1.4.0\n",
      "fsspec             2024.3.1\n",
      "huggingface_hub    0.23.1\n",
      "idna               3.7\n",
      "importlib_metadata 7.1.0\n",
      "ipykernel          6.29.4\n",
      "ipython            8.25.0\n",
      "jedi               0.19.1\n",
      "Jinja2             3.1.4\n",
      "jupyter_client     8.6.2\n",
      "jupyter_core       5.7.2\n",
      "kiwisolver         1.4.4\n",
      "MarkupSafe         2.1.3\n",
      "matplotlib         3.8.4\n",
      "matplotlib-inline  0.1.7\n",
      "mkl-fft            1.3.8\n",
      "mkl-random         1.2.4\n",
      "mkl-service        2.4.0\n",
      "mpmath             1.3.0\n",
      "multidict          6.0.4\n",
      "multiprocess       0.70.15\n",
      "nest_asyncio       1.6.0\n",
      "networkx           3.2.1\n",
      "numexpr            2.8.7\n",
      "numpy              1.26.4\n",
      "packaging          23.2\n",
      "pandas             2.2.2\n",
      "parso              0.8.4\n",
      "pickleshare        0.7.5\n",
      "pillow             10.3.0\n",
      "pip                24.0\n",
      "platformdirs       4.2.2\n",
      "prompt_toolkit     3.0.47\n",
      "psutil             5.9.0\n",
      "pure-eval          0.2.2\n",
      "pyarrow            14.0.2\n",
      "Pygments           2.18.0\n",
      "pyparsing          3.0.9\n",
      "PySocks            1.7.1\n",
      "python-dateutil    2.9.0.post0\n",
      "pytz               2024.1\n",
      "pywin32            305.1\n",
      "PyYAML             6.0.1\n",
      "pyzmq              25.1.2\n",
      "regex              2024.5.15\n",
      "requests           2.32.2\n",
      "safetensors        0.4.3\n",
      "seaborn            0.13.2\n",
      "setuptools         69.5.1\n",
      "six                1.16.0\n",
      "stack-data         0.6.2\n",
      "sympy              1.12\n",
      "tokenizers         0.19.1\n",
      "torch              2.3.1\n",
      "torchaudio         2.3.1\n",
      "torchvision        0.18.1\n",
      "tornado            6.4.1\n",
      "tqdm               4.66.4\n",
      "traitlets          5.14.3\n",
      "transformers       4.41.2\n",
      "typing_extensions  4.11.0\n",
      "tzdata             2023.3\n",
      "unicodedata2       15.1.0\n",
      "urllib3            2.2.1\n",
      "wcwidth            0.2.13\n",
      "wheel              0.43.0\n",
      "win-inet-pton      1.1.0\n",
      "xxhash             2.0.2\n",
      "yarl               1.9.3\n",
      "zipp               3.19.2\n"
     ]
    }
   ],
   "source": [
    "!pip list"
   ]
  },
  {
   "cell_type": "code",
   "execution_count": 1,
   "id": "fecd1062",
   "metadata": {},
   "outputs": [
    {
     "name": "stderr",
     "output_type": "stream",
     "text": [
      "c:\\Users\\datbi\\anaconda3\\envs\\thesis-env\\Lib\\site-packages\\tqdm\\auto.py:21: TqdmWarning: IProgress not found. Please update jupyter and ipywidgets. See https://ipywidgets.readthedocs.io/en/stable/user_install.html\n",
      "  from .autonotebook import tqdm as notebook_tqdm\n"
     ]
    }
   ],
   "source": [
    "import pandas as pd\n",
    "import matplotlib.pyplot as plt\n",
    "import seaborn as sns\n",
    "import numpy as np\n",
    "import torch\n",
    "from transformers import AutoTokenizer, AutoModelForSequenceClassification\n",
    "from torch.utils.data import DataLoader\n",
    "import pickle\n",
    "import time"
   ]
  },
  {
   "cell_type": "code",
   "execution_count": 2,
   "id": "d4adb842",
   "metadata": {},
   "outputs": [
    {
     "name": "stdout",
     "output_type": "stream",
     "text": [
      "True\n"
     ]
    }
   ],
   "source": [
    "# Check if CUDA is available\n",
    "print(torch.cuda.is_available())"
   ]
  },
  {
   "cell_type": "markdown",
   "id": "11c43f8b",
   "metadata": {},
   "source": [
    "# Load redudancy scores from pickle and construct redudancy DF"
   ]
  },
  {
   "cell_type": "code",
   "execution_count": 8,
   "id": "d9e6d919",
   "metadata": {},
   "outputs": [],
   "source": [
    "# Load pickle file with redundancies\n",
    "import pickle\n",
    "\n",
    "with open('C:/Users/datbi/Downloads/uva-thesis-v2/uva-thesis/main_github/boolq_cosine_sim_BERT_1000.pkl', 'rb') as file:\n",
    "    boolq_cosine_sim_ft = pickle.load(file)\n",
    "\n",
    "# Return average redundancies\n",
    "average_redundancies = [sum(values) / len(values) for values in zip(*boolq_cosine_sim_ft)]\n",
    "\n",
    "# Structure for storing (head1, head2, similarity)\n",
    "num_heads = 144\n",
    "test_store = []\n",
    "avg_idx = 0\n",
    "for i in range(num_heads):\n",
    "    for j in range(i+1, num_heads):\n",
    "      test_store.append([i+1, j+1, average_redundancies[avg_idx]])\n",
    "      avg_idx +=  1\n",
    "        \n",
    "\n",
    "# Dataframe that stores every head vs every other head for analysis\n",
    "\n",
    "# Create matrix with all pairs for analysis\n",
    "original_corr_df = pd.DataFrame(test_store, columns=['head_a', 'head_b', 'similarity'])\n",
    "double_corr_df = pd.DataFrame(test_store, columns=['head_a', 'head_b', 'similarity'])\n",
    "reverse_corr_df = double_corr_df[['head_b', 'head_a', 'similarity']].copy()\n",
    "reverse_corr_df = reverse_corr_df.rename(columns={'head_b': 'head_a', 'head_a': 'head_b'})\n",
    "\n",
    "all_pairs_corr = pd.concat([original_corr_df, reverse_corr_df], axis=0)\n",
    "#all_pairs_corr['head_a'] = all_pairs_corr['head_a'].apply(str)"
   ]
  },
  {
   "cell_type": "markdown",
   "id": "b8433b97",
   "metadata": {},
   "source": [
    "## Order head by redundancy scores against all other heads"
   ]
  },
  {
   "cell_type": "code",
   "execution_count": 9,
   "id": "af25ebb4",
   "metadata": {},
   "outputs": [],
   "source": [
    "sorted_avg_corr = all_pairs_corr.groupby('head_a').mean().sort_values(by='similarity', ascending=False)"
   ]
  },
  {
   "cell_type": "markdown",
   "id": "f3b05606",
   "metadata": {},
   "source": [
    "# Helper functions"
   ]
  },
  {
   "cell_type": "markdown",
   "id": "8fe78c4d",
   "metadata": {},
   "source": [
    "## Dictionary that stores the heads with its corresponding layer index and head index"
   ]
  },
  {
   "cell_type": "code",
   "execution_count": 10,
   "id": "75d43d80",
   "metadata": {},
   "outputs": [],
   "source": [
    "# Create dictionary with any number of heads and layers\n",
    "def get_layers_heads(heads_each_layer, layers_total):\n",
    "    values_layers_heads = {}\n",
    "    total_heads = heads_each_layer * layers_total\n",
    "    \n",
    "    for head in np.arange(1, total_heads+1):\n",
    "        layer = (head - 1) // layers_total + 1\n",
    "        if layer == 1:\n",
    "            values_layers_heads[head] = (layer, head)\n",
    "        else:\n",
    "            head_in_layer = head - (layers_total * (layer - 1))\n",
    "            values_layers_heads[head] = (layer, head_in_layer)\n",
    "        \n",
    "    return values_layers_heads"
   ]
  },
  {
   "cell_type": "markdown",
   "id": "3f7a6094",
   "metadata": {},
   "source": [
    "## Get exact heads to prune at each interval"
   ]
  },
  {
   "cell_type": "code",
   "execution_count": 11,
   "id": "31384d33",
   "metadata": {},
   "outputs": [],
   "source": [
    "def get_heads_to_prune(redundant_heads):\n",
    "    # Input is heads ordered by redundancy\n",
    "    prune_ratios = np.arange(0.05, 0.96, 0.05)\n",
    "    number_of_heads = len(redundant_heads)\n",
    "    heads_to_prune_interval = []\n",
    "    \n",
    "    for ratio in prune_ratios:\n",
    "        num_heads_to_prune = round(number_of_heads * ratio)\n",
    "        heads_to_prune_interval.append(redundant_heads[:num_heads_to_prune])\n",
    "    \n",
    "    return heads_to_prune_interval"
   ]
  },
  {
   "cell_type": "markdown",
   "id": "8da27e15",
   "metadata": {},
   "source": [
    "## Batch the data for DataLoader"
   ]
  },
  {
   "cell_type": "code",
   "execution_count": 12,
   "id": "b701fabe",
   "metadata": {},
   "outputs": [],
   "source": [
    "def collate_fn(batch):\n",
    "    # Prepare the batch for DataLoader\n",
    "    input_ids = torch.stack([torch.tensor(d['input_ids']) for d in batch])\n",
    "    attention_mask = torch.stack([torch.tensor(d['attention_mask']) for d in batch])\n",
    "    token_type_ids = torch.stack([torch.tensor(d['token_type_ids']) for d in batch])\n",
    "    labels = torch.tensor([d['labels'] for d in batch])\n",
    "    return {\n",
    "        'input_ids': input_ids,\n",
    "        'attention_mask': attention_mask,\n",
    "        'token_type_ids': token_type_ids,\n",
    "        'labels': labels\n",
    "    }"
   ]
  },
  {
   "cell_type": "markdown",
   "id": "0da7b7e8",
   "metadata": {},
   "source": [
    "# Load validation set"
   ]
  },
  {
   "cell_type": "markdown",
   "id": "62796312",
   "metadata": {},
   "source": [
    "## Load model link and tokenizer"
   ]
  },
  {
   "cell_type": "code",
   "execution_count": 13,
   "id": "0bc858fa",
   "metadata": {},
   "outputs": [
    {
     "name": "stderr",
     "output_type": "stream",
     "text": [
      "c:\\Users\\datbi\\anaconda3\\envs\\thesis-env\\Lib\\site-packages\\huggingface_hub\\file_download.py:157: UserWarning: `huggingface_hub` cache-system uses symlinks by default to efficiently store duplicated files but your machine does not support them in C:\\Users\\datbi\\.cache\\huggingface\\hub\\models--rycecorn--bert-fine-tuned-boolq. Caching files will still work but in a degraded version that might require more space on your disk. This warning can be disabled by setting the `HF_HUB_DISABLE_SYMLINKS_WARNING` environment variable. For more details, see https://huggingface.co/docs/huggingface_hub/how-to-cache#limitations.\n",
      "To support symlinks on Windows, you either need to activate Developer Mode or to run Python as an administrator. In order to see activate developer mode, see this article: https://docs.microsoft.com/en-us/windows/apps/get-started/enable-your-device-for-development\n",
      "  warnings.warn(message)\n"
     ]
    }
   ],
   "source": [
    "# Model link and tokenizer\n",
    "model_link = \"rycecorn/bert-fine-tuned-boolq\"\n",
    "tokenizer = AutoTokenizer.from_pretrained(model_link)"
   ]
  },
  {
   "cell_type": "code",
   "execution_count": 9,
   "id": "b8eacd8c",
   "metadata": {},
   "outputs": [
    {
     "name": "stdout",
     "output_type": "stream",
     "text": [
      "CPU times: user 470 ms, sys: 83.7 ms, total: 554 ms\n",
      "Wall time: 6.28 s\n"
     ]
    }
   ],
   "source": [
    "%%time\n",
    "# Dataset prep\n",
    "from datasets import load_dataset\n",
    "dataset = load_dataset(\"boolq\")\n",
    "\n",
    "def preprocess_function(batch):\n",
    "    # Tokenize the batch of questions and passages\n",
    "    tokenized_data = tokenizer(batch[\"question\"], batch[\"passage\"],\n",
    "                               truncation=True, padding=\"max_length\", max_length=512)\n",
    "\n",
    "    # Create labels for the entire batch\n",
    "    tokenized_data['labels'] = [1 if answer else 0 for answer in batch['answer']]\n",
    "    return tokenized_data\n",
    "\n",
    "# Apply the function to the dataset in batches\n",
    "tokenized_datasets = dataset.map(preprocess_function, batched=True)\n",
    "validation_set = tokenized_datasets['validation']\n",
    "validation_loader = DataLoader(validation_set, batch_size=16, collate_fn=collate_fn)"
   ]
  },
  {
   "cell_type": "code",
   "execution_count": 10,
   "id": "6e556b74",
   "metadata": {},
   "outputs": [
    {
     "data": {
      "text/plain": [
       "DatasetDict({\n",
       "    train: Dataset({\n",
       "        features: ['question', 'answer', 'passage', 'input_ids', 'token_type_ids', 'attention_mask', 'labels'],\n",
       "        num_rows: 9427\n",
       "    })\n",
       "    validation: Dataset({\n",
       "        features: ['question', 'answer', 'passage', 'input_ids', 'token_type_ids', 'attention_mask', 'labels'],\n",
       "        num_rows: 3270\n",
       "    })\n",
       "})"
      ]
     },
     "execution_count": 10,
     "metadata": {},
     "output_type": "execute_result"
    }
   ],
   "source": [
    "tokenized_datasets"
   ]
  },
  {
   "cell_type": "markdown",
   "id": "89444ef3",
   "metadata": {},
   "source": [
    "# Create layer and head index dictionary"
   ]
  },
  {
   "cell_type": "code",
   "execution_count": 11,
   "id": "d529430f",
   "metadata": {},
   "outputs": [
    {
     "name": "stdout",
     "output_type": "stream",
     "text": [
      "The model has 12 layers with 12 heads in each layer\n"
     ]
    }
   ],
   "source": [
    "model = AutoModelForSequenceClassification.from_pretrained(model_link)\n",
    "layers = len(model.bert.encoder.layer)\n",
    "heads_each_layer = model.config.num_attention_heads\n",
    "\n",
    "values_layers_heads = get_layers_heads(heads_each_layer, layers)\n",
    "\n",
    "print(f\"The model has {layers} layers with {heads_each_layer} heads in each layer\")"
   ]
  },
  {
   "cell_type": "markdown",
   "id": "0383893d",
   "metadata": {},
   "source": [
    "# Set pruning conditions"
   ]
  },
  {
   "cell_type": "code",
   "execution_count": 12,
   "id": "a6ace6d7",
   "metadata": {},
   "outputs": [
    {
     "name": "stdout",
     "output_type": "stream",
     "text": [
      "Pruning ratios are [0.05 0.1  0.15 0.2  0.25 0.3  0.35 0.4  0.45 0.5  0.55 0.6  0.65 0.7\n",
      " 0.75 0.8  0.85 0.9  0.95]\n"
     ]
    }
   ],
   "source": [
    "# Storing the heads to prune\n",
    "heads_in_order = sorted_avg_corr.index.tolist()\n",
    "pruning_interval_heads = get_heads_to_prune(heads_in_order)\n",
    "\n",
    "# Pruning ratios\n",
    "prune_percentage = np.arange(0.05, 0.96, 0.05)\n",
    "\n",
    "# Creates dictionary of the interval and heads to be pruned for that interval. Has format {'prune_ratio' : [heads_to_be_pruned]}\n",
    "prune_dict = {}\n",
    "i = 0\n",
    "for percentage in prune_percentage:\n",
    "    prune_dict[round(percentage, 2)] = pruning_interval_heads[i]\n",
    "    i += 1\n",
    "    \n",
    "print(f\"Pruning ratios are {prune_percentage}\")"
   ]
  },
  {
   "cell_type": "code",
   "execution_count": 13,
   "id": "7da4d0fd",
   "metadata": {},
   "outputs": [],
   "source": [
    "#pruning_interval_heads[-1]"
   ]
  },
  {
   "cell_type": "markdown",
   "id": "f694423c",
   "metadata": {},
   "source": [
    "## Heads at each interval for plotting"
   ]
  },
  {
   "cell_type": "code",
   "execution_count": 14,
   "id": "48b6f1a6",
   "metadata": {},
   "outputs": [],
   "source": [
    "def extract_new_items(lists):\n",
    "    result = [pruning_interval_heads[0]]\n",
    "    for i in range(1, len(lists)):\n",
    "        previous_list = lists[i - 1]\n",
    "        current_list = lists[i]\n",
    "        new_items = [item for item in current_list if item not in previous_list]\n",
    "        result.append(new_items)\n",
    "    return result"
   ]
  },
  {
   "cell_type": "code",
   "execution_count": 15,
   "id": "ab3cafb6",
   "metadata": {},
   "outputs": [
    {
     "data": {
      "text/plain": [
       "{0.05: [38, 44, 43, 41, 45, 65, 39],\n",
       " 0.1: [51, 81, 143, 142, 137, 133, 141],\n",
       " 0.15: [136, 135, 138, 140, 139, 134, 144, 50],\n",
       " 0.2: [53, 96, 66, 126, 92, 55, 58],\n",
       " 0.25: [91, 80, 132, 57, 69, 72, 52],\n",
       " 0.3: [83, 131, 76, 123, 122, 47, 73],\n",
       " 0.35: [88, 37, 49, 56, 74, 64, 61],\n",
       " 0.4: [67, 128, 103, 130, 75, 87, 22, 121],\n",
       " 0.45: [124, 127, 59, 109, 63, 54, 28],\n",
       " 0.5: [82, 62, 68, 125, 95, 8, 21],\n",
       " 0.55: [129, 13, 78, 31, 116, 112, 94],\n",
       " 0.6: [99, 115, 27, 5, 1, 10, 86],\n",
       " 0.65: [7, 97, 29, 40, 60, 79, 100, 32],\n",
       " 0.7: [35, 102, 70, 84, 6, 93, 2],\n",
       " 0.75: [18, 33, 24, 15, 77, 90, 20],\n",
       " 0.8: [101, 36, 48, 89, 12, 119, 114],\n",
       " 0.85: [98, 30, 16, 85, 110, 71, 26],\n",
       " 0.9: [9, 118, 117, 104, 23, 106, 108, 46],\n",
       " 0.95: [113, 120, 105, 3, 111, 11, 14]}"
      ]
     },
     "execution_count": 15,
     "metadata": {},
     "output_type": "execute_result"
    }
   ],
   "source": [
    "new_heads_each_interval = extract_new_items(pruning_interval_heads)\n",
    "prune_percentage = np.around(np.arange(0.05, 0.96, 0.05), 2)\n",
    "dict_new_heads_each_interval = {}\n",
    "for i in range(0, len(prune_percentage)):\n",
    "    dict_new_heads_each_interval[prune_percentage[i]] = new_heads_each_interval[i]\n",
    "\n",
    "dict_new_heads_each_interval"
   ]
  },
  {
   "cell_type": "code",
   "execution_count": 16,
   "id": "e479e028",
   "metadata": {},
   "outputs": [],
   "source": [
    "with open('BoolQ_BERT_prune_interval.pkl', 'wb') as f:\n",
    "    pickle.dump(dict_new_heads_each_interval, f)"
   ]
  },
  {
   "cell_type": "markdown",
   "id": "8e85571a",
   "metadata": {},
   "source": [
    "# Main pruning process"
   ]
  },
  {
   "cell_type": "code",
   "execution_count": 17,
   "id": "ff31d466",
   "metadata": {},
   "outputs": [],
   "source": [
    "from tqdm import tqdm"
   ]
  },
  {
   "cell_type": "code",
   "execution_count": 18,
   "id": "275f6cb5",
   "metadata": {},
   "outputs": [],
   "source": [
    "pruning_results = []"
   ]
  },
  {
   "cell_type": "code",
   "execution_count": 19,
   "id": "f1804a01",
   "metadata": {},
   "outputs": [
    {
     "data": {
      "text/plain": [
       "\"%%time\\n\\nimport time\\n\\n# Model specific data\\nnum_attention_heads = model.config.num_attention_heads\\nhead_size = model.config.hidden_size // num_attention_heads\\n\\n# PRUNING PROCESS\\nfor prune_ratio in tqdm(prune_percentage, desc='Pruning ratios'):\\n    # Load and reset model\\n    model = AutoModelForSequenceClassification.from_pretrained(model_link)\\n    heads_prune_this_iteration = prune_dict[round(prune_ratio ,2)]\\n    \\n    # This prunes each head in the respectie pruning ratio\\n    for head_to_prune in heads_prune_this_iteration:\\n        layer_index = values_layers_heads[head_to_prune][0] - 1\\n        head_index = values_layers_heads[head_to_prune][1] - 1\\n\\n        ## Zero out the specific head in the query, key, and value matrices\\n        ### Zero query matrix\\n        model.bert.encoder.layer[layer_index].attention.self.query.weight.data[:, head_index * head_size:(head_index + 1) * head_size] = 0\\n        model.bert.encoder.layer[layer_index].attention.self.query.bias.data[head_index * head_size:(head_index + 1) * head_size] = 0\\n        ### Zero key matrix\\n        model.bert.encoder.layer[layer_index].attention.self.key.weight.data[:, head_index * head_size:(head_index + 1) * head_size] = 0\\n        model.bert.encoder.layer[layer_index].attention.self.key.bias.data[head_index * head_size:(head_index + 1) * head_size] = 0\\n        ### Zero value matrix\\n        model.bert.encoder.layer[layer_index].attention.self.value.weight.data[:, head_index * head_size:(head_index + 1) * head_size] = 0\\n        model.bert.encoder.layer[layer_index].attention.self.value.bias.data[head_index * head_size:(head_index + 1) * head_size] = 0\\n        \\n    # Evaluate the pruned model\\n    device = torch.device('cuda' if torch.cuda.is_available() else 'cpu')\\n    model.to(device)\\n\\n    # Evaluation mode\\n    model.eval()\\n\\n    total_eval_accuracy = 0\\n    total_eval_loss = 0\\n    final_comp_time = 0\\n\\n    for batch in validation_loader:\\n        b_input_ids = batch['input_ids'].to(device)\\n        b_attention_mask = batch['attention_mask'].to(device)\\n        b_token_type_ids = batch['token_type_ids'].to(device)\\n        b_labels = batch['labels'].to(device)\\n        \\n        start_time = time.time()\\n        with torch.no_grad():\\n            # Perform a forward pass\\n            outputs = model(b_input_ids, \\n                            token_type_ids=b_token_type_ids, \\n                            attention_mask=b_attention_mask,\\n                            labels=b_labels)\\n\\n        # Calculate the loss\\n        loss = outputs.loss\\n        total_eval_loss += loss.item()\\n\\n        # Get the predictions\\n        logits = outputs.logits\\n        predictions = torch.argmax(logits, dim=-1)\\n        # time algorithm\\n        end_time = time.time()\\n        final_comp_time += end_time - start_time\\n        # Calculate accuracy\\n        accuracy = (predictions == b_labels).cpu().numpy().mean()\\n        total_eval_accuracy += accuracy\\n    \\n    # Calculate the average loss and accuracy for the pruned model\\n    avg_val_accuracy = total_eval_accuracy / len(validation_loader)\\n    avg_val_loss = total_eval_loss / len(validation_loader)\\n    \\n    # Append to storage\\n    pruning_results.append((round(prune_ratio, 2), len(heads_prune_this_iteration), avg_val_accuracy, final_comp_time))\\n\""
      ]
     },
     "execution_count": 19,
     "metadata": {},
     "output_type": "execute_result"
    }
   ],
   "source": [
    "'''%%time\n",
    "\n",
    "import time\n",
    "\n",
    "# Model specific data\n",
    "num_attention_heads = model.config.num_attention_heads\n",
    "head_size = model.config.hidden_size // num_attention_heads\n",
    "\n",
    "# PRUNING PROCESS\n",
    "for prune_ratio in tqdm(prune_percentage, desc='Pruning ratios'):\n",
    "    # Load and reset model\n",
    "    model = AutoModelForSequenceClassification.from_pretrained(model_link)\n",
    "    heads_prune_this_iteration = prune_dict[round(prune_ratio ,2)]\n",
    "    \n",
    "    # This prunes each head in the respectie pruning ratio\n",
    "    for head_to_prune in heads_prune_this_iteration:\n",
    "        layer_index = values_layers_heads[head_to_prune][0] - 1\n",
    "        head_index = values_layers_heads[head_to_prune][1] - 1\n",
    "\n",
    "        ## Zero out the specific head in the query, key, and value matrices\n",
    "        ### Zero query matrix\n",
    "        model.bert.encoder.layer[layer_index].attention.self.query.weight.data[:, head_index * head_size:(head_index + 1) * head_size] = 0\n",
    "        model.bert.encoder.layer[layer_index].attention.self.query.bias.data[head_index * head_size:(head_index + 1) * head_size] = 0\n",
    "        ### Zero key matrix\n",
    "        model.bert.encoder.layer[layer_index].attention.self.key.weight.data[:, head_index * head_size:(head_index + 1) * head_size] = 0\n",
    "        model.bert.encoder.layer[layer_index].attention.self.key.bias.data[head_index * head_size:(head_index + 1) * head_size] = 0\n",
    "        ### Zero value matrix\n",
    "        model.bert.encoder.layer[layer_index].attention.self.value.weight.data[:, head_index * head_size:(head_index + 1) * head_size] = 0\n",
    "        model.bert.encoder.layer[layer_index].attention.self.value.bias.data[head_index * head_size:(head_index + 1) * head_size] = 0\n",
    "        \n",
    "    # Evaluate the pruned model\n",
    "    device = torch.device('cuda' if torch.cuda.is_available() else 'cpu')\n",
    "    model.to(device)\n",
    "\n",
    "    # Evaluation mode\n",
    "    model.eval()\n",
    "\n",
    "    total_eval_accuracy = 0\n",
    "    total_eval_loss = 0\n",
    "    final_comp_time = 0\n",
    "\n",
    "    for batch in validation_loader:\n",
    "        b_input_ids = batch['input_ids'].to(device)\n",
    "        b_attention_mask = batch['attention_mask'].to(device)\n",
    "        b_token_type_ids = batch['token_type_ids'].to(device)\n",
    "        b_labels = batch['labels'].to(device)\n",
    "        \n",
    "        start_time = time.time()\n",
    "        with torch.no_grad():\n",
    "            # Perform a forward pass\n",
    "            outputs = model(b_input_ids, \n",
    "                            token_type_ids=b_token_type_ids, \n",
    "                            attention_mask=b_attention_mask,\n",
    "                            labels=b_labels)\n",
    "\n",
    "        # Calculate the loss\n",
    "        loss = outputs.loss\n",
    "        total_eval_loss += loss.item()\n",
    "\n",
    "        # Get the predictions\n",
    "        logits = outputs.logits\n",
    "        predictions = torch.argmax(logits, dim=-1)\n",
    "        # time algorithm\n",
    "        end_time = time.time()\n",
    "        final_comp_time += end_time - start_time\n",
    "        # Calculate accuracy\n",
    "        accuracy = (predictions == b_labels).cpu().numpy().mean()\n",
    "        total_eval_accuracy += accuracy\n",
    "    \n",
    "    # Calculate the average loss and accuracy for the pruned model\n",
    "    avg_val_accuracy = total_eval_accuracy / len(validation_loader)\n",
    "    avg_val_loss = total_eval_loss / len(validation_loader)\n",
    "    \n",
    "    # Append to storage\n",
    "    pruning_results.append((round(prune_ratio, 2), len(heads_prune_this_iteration), avg_val_accuracy, final_comp_time))\n",
    "'''"
   ]
  },
  {
   "cell_type": "code",
   "execution_count": 20,
   "id": "bcf7b9d1",
   "metadata": {},
   "outputs": [
    {
     "name": "stderr",
     "output_type": "stream",
     "text": [
      "Pruning ratios: 100%|██████████| 19/19 [10:02<00:00, 31.69s/it]\n"
     ]
    }
   ],
   "source": [
    "import time\n",
    "from tqdm import tqdm\n",
    "import torch\n",
    "from transformers import AutoModelForSequenceClassification\n",
    "\n",
    "# Model specific data\n",
    "num_attention_heads = model.config.num_attention_heads\n",
    "head_size = model.config.hidden_size // num_attention_heads\n",
    "\n",
    "def prune_heads(model, heads_to_prune, head_size):\n",
    "    for head_to_prune in heads_to_prune:\n",
    "        layer_index = values_layers_heads[head_to_prune][0] - 1\n",
    "        head_index = values_layers_heads[head_to_prune][1] - 1\n",
    "\n",
    "        # Zero out the specific head in the query, key, and value matrices\n",
    "        for matrix in ['query', 'key', 'value']:\n",
    "            weight = getattr(model.bert.encoder.layer[layer_index].attention.self, matrix).weight.data\n",
    "            bias = getattr(model.bert.encoder.layer[layer_index].attention.self, matrix).bias.data\n",
    "            weight[:, head_index * head_size:(head_index + 1) * head_size] = 0\n",
    "            bias[head_index * head_size:(head_index + 1) * head_size] = 0\n",
    "\n",
    "def evaluate_model(model, validation_loader, device):\n",
    "    model.to(device)\n",
    "    model.eval()\n",
    "    \n",
    "    total_eval_accuracy = 0\n",
    "    total_eval_loss = 0\n",
    "    final_comp_time = 0\n",
    "\n",
    "    for batch in validation_loader:\n",
    "        b_input_ids = batch['input_ids'].to(device)\n",
    "        b_attention_mask = batch['attention_mask'].to(device)\n",
    "        b_token_type_ids = batch['token_type_ids'].to(device)\n",
    "        b_labels = batch['labels'].to(device)\n",
    "        \n",
    "        start_time = time.time()\n",
    "        with torch.no_grad():\n",
    "            outputs = model(b_input_ids, token_type_ids=b_token_type_ids, attention_mask=b_attention_mask, labels=b_labels)\n",
    "\n",
    "        loss = outputs.loss\n",
    "        total_eval_loss += loss.item()\n",
    "        logits = outputs.logits\n",
    "        predictions = torch.argmax(logits, dim=-1)\n",
    "        end_time = time.time()\n",
    "        final_comp_time += end_time - start_time\n",
    "        accuracy = (predictions == b_labels).cpu().numpy().mean()\n",
    "        total_eval_accuracy += accuracy\n",
    "\n",
    "    avg_val_accuracy = total_eval_accuracy / len(validation_loader)\n",
    "    avg_val_loss = total_eval_loss / len(validation_loader)\n",
    "    \n",
    "    return avg_val_accuracy, avg_val_loss, final_comp_time\n",
    "\n",
    "# Main loop\n",
    "device = torch.device('cuda' if torch.cuda.is_available() else 'cpu')\n",
    "pruning_results = []\n",
    "\n",
    "# Load and save the initial state of the model\n",
    "initial_model = AutoModelForSequenceClassification.from_pretrained(model_link)\n",
    "initial_state_dict = initial_model.state_dict()\n",
    "\n",
    "for prune_ratio in tqdm(prune_percentage, desc='Pruning ratios'):\n",
    "    # Load the initial state of the model\n",
    "    model.load_state_dict(initial_state_dict)\n",
    "    \n",
    "    heads_prune_this_iteration = prune_dict[round(prune_ratio, 2)]\n",
    "    prune_heads(model, heads_prune_this_iteration, head_size)\n",
    "    \n",
    "    avg_val_accuracy, avg_val_loss, final_comp_time = evaluate_model(model, validation_loader, device)\n",
    "    \n",
    "    pruning_results.append((round(prune_ratio, 2), len(heads_prune_this_iteration), avg_val_accuracy, final_comp_time))\n"
   ]
  },
  {
   "cell_type": "code",
   "execution_count": 21,
   "id": "a2c0e706",
   "metadata": {},
   "outputs": [
    {
     "name": "stdout",
     "output_type": "stream",
     "text": [
      "Base accuracy: 0.7489837398373983\n",
      "Base inference tie: 29.08620309829712\n"
     ]
    }
   ],
   "source": [
    "# Case where no heads are pruned\n",
    "# Load and save the initial state of the model\n",
    "initial_model = AutoModelForSequenceClassification.from_pretrained(model_link)\n",
    "initial_state_dict = initial_model.state_dict()\n",
    "\n",
    "# Evaluate the base case where no heads are pruned\n",
    "model.load_state_dict(initial_state_dict)\n",
    "base_accuracy, base_loss, base_comp_time = evaluate_model(model, validation_loader, device)\n",
    "\n",
    "print(f\"Base accuracy: {base_accuracy}\")\n",
    "print(f\"Base inference time: {base_comp_time}\")"
   ]
  },
  {
   "cell_type": "code",
   "execution_count": 22,
   "id": "b351ae91",
   "metadata": {},
   "outputs": [],
   "source": [
    "pruning_df = pd.DataFrame(pruning_results, columns=['Pruning ratio', 'Num heads pruned', 'Average validation accuracy', 'Comp time'])"
   ]
  },
  {
   "cell_type": "code",
   "execution_count": 23,
   "id": "464c70f5",
   "metadata": {},
   "outputs": [
    {
     "data": {
      "text/html": [
       "<div>\n",
       "<style scoped>\n",
       "    .dataframe tbody tr th:only-of-type {\n",
       "        vertical-align: middle;\n",
       "    }\n",
       "\n",
       "    .dataframe tbody tr th {\n",
       "        vertical-align: top;\n",
       "    }\n",
       "\n",
       "    .dataframe thead th {\n",
       "        text-align: right;\n",
       "    }\n",
       "</style>\n",
       "<table border=\"1\" class=\"dataframe\">\n",
       "  <thead>\n",
       "    <tr style=\"text-align: right;\">\n",
       "      <th></th>\n",
       "      <th>Pruning ratio</th>\n",
       "      <th>Num heads pruned</th>\n",
       "      <th>Average validation accuracy</th>\n",
       "      <th>Comp time</th>\n",
       "    </tr>\n",
       "  </thead>\n",
       "  <tbody>\n",
       "    <tr>\n",
       "      <th>0</th>\n",
       "      <td>0.05</td>\n",
       "      <td>7</td>\n",
       "      <td>0.750407</td>\n",
       "      <td>31.383663</td>\n",
       "    </tr>\n",
       "    <tr>\n",
       "      <th>1</th>\n",
       "      <td>0.10</td>\n",
       "      <td>14</td>\n",
       "      <td>0.749492</td>\n",
       "      <td>29.259278</td>\n",
       "    </tr>\n",
       "    <tr>\n",
       "      <th>2</th>\n",
       "      <td>0.15</td>\n",
       "      <td>22</td>\n",
       "      <td>0.745020</td>\n",
       "      <td>29.384397</td>\n",
       "    </tr>\n",
       "    <tr>\n",
       "      <th>3</th>\n",
       "      <td>0.20</td>\n",
       "      <td>29</td>\n",
       "      <td>0.724085</td>\n",
       "      <td>29.474767</td>\n",
       "    </tr>\n",
       "    <tr>\n",
       "      <th>4</th>\n",
       "      <td>0.25</td>\n",
       "      <td>36</td>\n",
       "      <td>0.707012</td>\n",
       "      <td>29.520971</td>\n",
       "    </tr>\n",
       "    <tr>\n",
       "      <th>5</th>\n",
       "      <td>0.30</td>\n",
       "      <td>43</td>\n",
       "      <td>0.689329</td>\n",
       "      <td>29.567274</td>\n",
       "    </tr>\n",
       "    <tr>\n",
       "      <th>6</th>\n",
       "      <td>0.35</td>\n",
       "      <td>50</td>\n",
       "      <td>0.679472</td>\n",
       "      <td>29.595579</td>\n",
       "    </tr>\n",
       "    <tr>\n",
       "      <th>7</th>\n",
       "      <td>0.40</td>\n",
       "      <td>58</td>\n",
       "      <td>0.587805</td>\n",
       "      <td>29.595457</td>\n",
       "    </tr>\n",
       "    <tr>\n",
       "      <th>8</th>\n",
       "      <td>0.45</td>\n",
       "      <td>65</td>\n",
       "      <td>0.532520</td>\n",
       "      <td>29.591908</td>\n",
       "    </tr>\n",
       "    <tr>\n",
       "      <th>9</th>\n",
       "      <td>0.50</td>\n",
       "      <td>72</td>\n",
       "      <td>0.484045</td>\n",
       "      <td>29.568115</td>\n",
       "    </tr>\n",
       "    <tr>\n",
       "      <th>10</th>\n",
       "      <td>0.55</td>\n",
       "      <td>79</td>\n",
       "      <td>0.450203</td>\n",
       "      <td>29.549906</td>\n",
       "    </tr>\n",
       "    <tr>\n",
       "      <th>11</th>\n",
       "      <td>0.60</td>\n",
       "      <td>86</td>\n",
       "      <td>0.398679</td>\n",
       "      <td>29.530527</td>\n",
       "    </tr>\n",
       "    <tr>\n",
       "      <th>12</th>\n",
       "      <td>0.65</td>\n",
       "      <td>94</td>\n",
       "      <td>0.387093</td>\n",
       "      <td>29.460806</td>\n",
       "    </tr>\n",
       "    <tr>\n",
       "      <th>13</th>\n",
       "      <td>0.70</td>\n",
       "      <td>101</td>\n",
       "      <td>0.409350</td>\n",
       "      <td>29.431475</td>\n",
       "    </tr>\n",
       "    <tr>\n",
       "      <th>14</th>\n",
       "      <td>0.75</td>\n",
       "      <td>108</td>\n",
       "      <td>0.460569</td>\n",
       "      <td>29.358609</td>\n",
       "    </tr>\n",
       "    <tr>\n",
       "      <th>15</th>\n",
       "      <td>0.80</td>\n",
       "      <td>115</td>\n",
       "      <td>0.589837</td>\n",
       "      <td>29.336806</td>\n",
       "    </tr>\n",
       "    <tr>\n",
       "      <th>16</th>\n",
       "      <td>0.85</td>\n",
       "      <td>122</td>\n",
       "      <td>0.482520</td>\n",
       "      <td>29.191147</td>\n",
       "    </tr>\n",
       "    <tr>\n",
       "      <th>17</th>\n",
       "      <td>0.90</td>\n",
       "      <td>130</td>\n",
       "      <td>0.382825</td>\n",
       "      <td>29.186558</td>\n",
       "    </tr>\n",
       "    <tr>\n",
       "      <th>18</th>\n",
       "      <td>0.95</td>\n",
       "      <td>137</td>\n",
       "      <td>0.377947</td>\n",
       "      <td>29.094485</td>\n",
       "    </tr>\n",
       "  </tbody>\n",
       "</table>\n",
       "</div>"
      ],
      "text/plain": [
       "    Pruning ratio  Num heads pruned  Average validation accuracy  Comp time\n",
       "0            0.05                 7                     0.750407  31.383663\n",
       "1            0.10                14                     0.749492  29.259278\n",
       "2            0.15                22                     0.745020  29.384397\n",
       "3            0.20                29                     0.724085  29.474767\n",
       "4            0.25                36                     0.707012  29.520971\n",
       "5            0.30                43                     0.689329  29.567274\n",
       "6            0.35                50                     0.679472  29.595579\n",
       "7            0.40                58                     0.587805  29.595457\n",
       "8            0.45                65                     0.532520  29.591908\n",
       "9            0.50                72                     0.484045  29.568115\n",
       "10           0.55                79                     0.450203  29.549906\n",
       "11           0.60                86                     0.398679  29.530527\n",
       "12           0.65                94                     0.387093  29.460806\n",
       "13           0.70               101                     0.409350  29.431475\n",
       "14           0.75               108                     0.460569  29.358609\n",
       "15           0.80               115                     0.589837  29.336806\n",
       "16           0.85               122                     0.482520  29.191147\n",
       "17           0.90               130                     0.382825  29.186558\n",
       "18           0.95               137                     0.377947  29.094485"
      ]
     },
     "execution_count": 23,
     "metadata": {},
     "output_type": "execute_result"
    }
   ],
   "source": [
    "pruning_df"
   ]
  },
  {
   "cell_type": "code",
   "execution_count": 24,
   "id": "3659b56f",
   "metadata": {},
   "outputs": [],
   "source": [
    "# Save to CSV\n",
    "pruning_df.to_csv('boolq_prune_df.csv', index=False)"
   ]
  },
  {
   "cell_type": "code",
   "execution_count": 55,
   "id": "72bb9635",
   "metadata": {},
   "outputs": [
    {
     "data": {
      "image/png": "[encoded data removed]",
      "text/plain": [
       "<Figure size 640x480 with 1 Axes>"
      ]
     },
     "metadata": {},
     "output_type": "display_data"
    }
   ],
   "source": [
    "x = pruning_df['Pruning ratio']\n",
    "\n",
    "plt.plot(x, pruning_df['Average validation accuracy'], label='Pruning')\n",
    "plt.title('BoolQ / BERT-base')\n",
    "plt.xlabel('Pruning ratio', fontsize=10)\n",
    "plt.ylabel('Accuracy')\n",
    "plt.xticks(np.arange(start=0.05, stop= 1, step=0.05), fontsize=8)\n",
    "plt.axhline(0.7489, color='r', linestyle='--', label='No pruning')\n",
    "plt.grid(True)\n",
    "plt.ylim(0.35, 0.8)\n",
    "plt.legend()\n",
    "#plt.savefig('prune_boolq_BERT-FT.png')\n",
    "plt.show()"
   ]
  },
  {
   "cell_type": "code",
   "execution_count": null,
   "id": "be871d59",
   "metadata": {},
   "outputs": [],
   "source": []
  }
 ],
 "metadata": {
  "kernelspec": {
   "display_name": "thesis-env",
   "language": "python",
   "name": "python3"
  },
  "language_info": {
   "codemirror_mode": {
    "name": "ipython",
    "version": 3
   },
   "file_extension": ".py",
   "mimetype": "text/x-python",
   "name": "python",
   "nbconvert_exporter": "python",
   "pygments_lexer": "ipython3",
   "version": "3.12.4"
  }
 },
 "nbformat": 4,
 "nbformat_minor": 5
}
