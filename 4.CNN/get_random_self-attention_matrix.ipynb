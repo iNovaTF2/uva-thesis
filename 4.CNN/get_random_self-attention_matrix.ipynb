{
 "cells": [
  {
   "cell_type": "code",
   "execution_count": 24,
   "id": "60235198",
   "metadata": {},
   "outputs": [],
   "source": [
    "from datasets import load_dataset\n",
    "import torch\n",
    "import numpy as np\n",
    "import pickle\n",
    "import json\n",
    "from tqdm import tqdm\n",
    "import random\n",
    "import matplotlib.pyplot as plt\n",
    "import seaborn as sns"
   ]
  },
  {
   "cell_type": "code",
   "execution_count": 25,
   "id": "15728fcf",
   "metadata": {},
   "outputs": [],
   "source": [
    "dataset = load_dataset(\"SetFit/rte\")"
   ]
  },
  {
   "cell_type": "code",
   "execution_count": 7,
   "id": "dd93e2c9",
   "metadata": {},
   "outputs": [
    {
     "name": "stderr",
     "output_type": "stream",
     "text": [
      "100%|██████████| 9427/9427 [00:00<00:00, 26526.90it/s]\n"
     ]
    }
   ],
   "source": [
    "input_pairs = [[row['text1'], row['text2']] for row in tqdm(dataset['train'])]"
   ]
  },
  {
   "cell_type": "code",
   "execution_count": 4,
   "id": "83ecdcf5",
   "metadata": {},
   "outputs": [],
   "source": [
    "from transformers import AutoTokenizer, BertModel\n",
    "\n",
    "tokenizer = AutoTokenizer.from_pretrained(\"google-bert/bert-base-uncased\")\n",
    "model = BertModel.from_pretrained(\"google-bert/bert-base-uncased\", output_attentions=True)"
   ]
  },
  {
   "cell_type": "code",
   "execution_count": 14,
   "id": "9fe89130",
   "metadata": {},
   "outputs": [],
   "source": [
    "def get_random_self_attention_matrix(input_sentence, attention_head):\n",
    "    test = input_pairs[input_sentence]\n",
    "    tokenized_input = tokenizer(test[0], test[1], truncation=True, padding=True, max_length=512, return_tensors='pt')\n",
    "    with torch.no_grad():\n",
    "      outputs = model(**tokenized_input)\n",
    "    attention_outputs = torch.stack(outputs.attentions)\n",
    "    flattened_attention_matrices = attention_outputs.view(-1, attention_outputs.size(3), attention_outputs.size(4))\n",
    "    flattened_attention_matrices = flattened_attention_matrices.numpy()\n",
    "    \n",
    "    selected_attention_head = flattened_attention_matrices[attention_head]\n",
    "    return selected_attention_head"
   ]
  },
  {
   "cell_type": "code",
   "execution_count": 55,
   "id": "fc4d2d3e",
   "metadata": {},
   "outputs": [],
   "source": [
    "img_num = 1\n",
    "\n",
    "for interval in range(0, 10):\n",
    "    # RNG\n",
    "    sentence_number = random.randint(0, 999)\n",
    "    head_number = random.randint(0, 143)\n",
    "    \n",
    "    # Get random head\n",
    "    head_check = get_random_self_attention_matrix(sentence_number, head_number)\n",
    "\n",
    "    # Create and save figure\n",
    "    file_name = f\"{img_num}.png\"\n",
    "    plt.figure(figsize=(10, 8))\n",
    "    plt.imshow(head_check, cmap='magma', interpolation='nearest')\n",
    "    plt.savefig(file_name)\n",
    "    \n",
    "    plt.close()\n",
    "    \n",
    "    # Increment file number\n",
    "    img_num += 1"
   ]
  },
  {
   "cell_type": "code",
   "execution_count": null,
   "id": "0122a7bc",
   "metadata": {},
   "outputs": [],
   "source": []
  }
 ],
 "metadata": {
  "kernelspec": {
   "display_name": ".conda-cuda-base [Python]",
   "language": "python",
   "name": "conda-env-.conda-cuda-base-py"
  },
  "language_info": {
   "codemirror_mode": {
    "name": "ipython",
    "version": 3
   },
   "file_extension": ".py",
   "mimetype": "text/x-python",
   "name": "python",
   "nbconvert_exporter": "python",
   "pygments_lexer": "ipython3",
   "version": "3.10.14"
  }
 },
 "nbformat": 4,
 "nbformat_minor": 5
}
