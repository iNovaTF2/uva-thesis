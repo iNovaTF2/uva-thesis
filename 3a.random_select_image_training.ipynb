{
 "cells": [
  {
   "cell_type": "code",
   "execution_count": null,
   "metadata": {},
   "outputs": [],
   "source": [
    "from datasets import load_dataset\n",
    "import torch\n",
    "import numpy as np\n",
    "import pickle\n",
    "import json\n",
    "from tqdm import tqdm\n",
    "import random\n",
    "import matplotlib.pyplot as plt\n",
    "import seaborn as sns"
   ]
  },
  {
   "cell_type": "code",
   "execution_count": null,
   "metadata": {},
   "outputs": [],
   "source": [
    "dataset = load_dataset(\"boolq\")"
   ]
  },
  {
   "cell_type": "code",
   "execution_count": null,
   "metadata": {},
   "outputs": [],
   "source": [
    "input_pairs = [[row['question'], row['passage']] for row in tqdm(dataset['train'])]"
   ]
  },
  {
   "cell_type": "code",
   "execution_count": null,
   "metadata": {},
   "outputs": [],
   "source": [
    "from transformers import AutoTokenizer, BertModel\n",
    "\n",
    "tokenizer = AutoTokenizer.from_pretrained(\"rycecorn/bert-fine-tuned-boolq\")\n",
    "model = BertModel.from_pretrained(\"rycecorn/bert-fine-tuned-boolq\", output_attentions=True)"
   ]
  },
  {
   "cell_type": "code",
   "execution_count": null,
   "metadata": {},
   "outputs": [],
   "source": [
    "def get_random_self_attention_matrix(input_sentence, attention_head):\n",
    "    test = input_pairs[input_sentence]\n",
    "    tokenized_input = tokenizer(test[0], test[1], truncation=True, padding=True, max_length=512, return_tensors='pt')\n",
    "    with torch.no_grad():\n",
    "      outputs = model(**tokenized_input)\n",
    "    attention_outputs = torch.stack(outputs.attentions)\n",
    "    flattened_attention_matrices = attention_outputs.view(-1, attention_outputs.size(3), attention_outputs.size(4))\n",
    "    flattened_attention_matrices = flattened_attention_matrices.numpy()\n",
    "    \n",
    "    selected_attention_head = flattened_attention_matrices[attention_head]\n",
    "    return selected_attention_head"
   ]
  },
  {
   "cell_type": "code",
   "execution_count": null,
   "metadata": {},
   "outputs": [],
   "source": [
    "img_num = 1\n",
    "\n",
    "for interval in range(0, 1000):\n",
    "    # RNG\n",
    "    sentence_number = random.randint(0, 999)\n",
    "    head_number = random.randint(0, 143)\n",
    "    \n",
    "    # Get random head\n",
    "    head_check = get_random_self_attention_matrix(sentence_number, head_number)\n",
    "\n",
    "    # Create and save figure\n",
    "    file_name = f\"{img_num}.png\"\n",
    "    plt.figure(figsize=(10, 8))\n",
    "    plt.imshow(head_check, cmap='magma', interpolation='nearest')\n",
    "    plt.savefig(\".outputs/CNN/train_images/file_name\")\n",
    "    \n",
    "    plt.close()\n",
    "    \n",
    "    # Increment file number\n",
    "    img_num += 1"
   ]
  }
 ],
 "metadata": {
  "language_info": {
   "name": "python"
  }
 },
 "nbformat": 4,
 "nbformat_minor": 2
}
